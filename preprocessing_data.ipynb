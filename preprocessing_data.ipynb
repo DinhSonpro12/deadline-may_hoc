{
  "nbformat": 4,
  "nbformat_minor": 0,
  "metadata": {
    "colab": {
      "name": "preprocessing data.ipynb",
      "provenance": [],
      "collapsed_sections": [],
      "toc_visible": true,
      "authorship_tag": "ABX9TyOSXFTnNmi06tYnQH/yetCv",
      "include_colab_link": true
    },
    "kernelspec": {
      "name": "python3",
      "display_name": "Python 3"
    },
    "language_info": {
      "name": "python"
    }
  },
  "cells": [
    {
      "cell_type": "markdown",
      "metadata": {
        "id": "view-in-github",
        "colab_type": "text"
      },
      "source": [
        "<a href=\"https://colab.research.google.com/github/DinhSonpro12/deadline-may_hoc/blob/main/preprocessing_data.ipynb\" target=\"_parent\"><img src=\"https://colab.research.google.com/assets/colab-badge.svg\" alt=\"Open In Colab\"/></a>"
      ]
    },
    {
      "cell_type": "code",
      "metadata": {
        "colab": {
          "base_uri": "https://localhost:8080/"
        },
        "id": "PrJcmAXR0Nds",
        "outputId": "a22680fc-3daf-4c89-df61-5c253274524b"
      },
      "source": [
        "!git clone https://github.com/DinhSonpro12/file-sheet.git"
      ],
      "execution_count": null,
      "outputs": [
        {
          "output_type": "stream",
          "text": [
            "fatal: destination path 'file-sheet' already exists and is not an empty directory.\n"
          ],
          "name": "stdout"
        }
      ]
    },
    {
      "cell_type": "code",
      "metadata": {
        "colab": {
          "base_uri": "https://localhost:8080/"
        },
        "id": "aRAQjVQJ4F2-",
        "outputId": "9a6c3d79-3339-4a1c-878c-94dd802b686b"
      },
      "source": [
        "%cd /home\n",
        "\n",
        "!git clone https://github.com/DinhSonpro12/file-sheet.git\n"
      ],
      "execution_count": null,
      "outputs": [
        {
          "output_type": "stream",
          "text": [
            "/home\n",
            "Cloning into 'file-sheet'...\n",
            "remote: Enumerating objects: 27, done.\u001b[K\n",
            "remote: Counting objects: 100% (27/27), done.\u001b[K\n",
            "remote: Compressing objects: 100% (25/25), done.\u001b[K\n",
            "remote: Total 27 (delta 6), reused 0 (delta 0), pack-reused 0\u001b[K\n",
            "Unpacking objects: 100% (27/27), done.\n"
          ],
          "name": "stdout"
        }
      ]
    },
    {
      "cell_type": "code",
      "metadata": {
        "id": "9-CZNgrI49zV"
      },
      "source": [
        "# import shutil\n",
        "# shutil.rmtree('/home/file-sheet')"
      ],
      "execution_count": null,
      "outputs": []
    },
    {
      "cell_type": "code",
      "metadata": {
        "colab": {
          "base_uri": "https://localhost:8080/"
        },
        "id": "JDayeEB35LSg",
        "outputId": "2ab9734c-6619-4619-ac67-3924ec20c5ef"
      },
      "source": [
        "%cd /content \n"
      ],
      "execution_count": null,
      "outputs": [
        {
          "output_type": "stream",
          "text": [
            "/content\n"
          ],
          "name": "stdout"
        }
      ]
    },
    {
      "cell_type": "code",
      "metadata": {
        "id": "Q0eGQdGX6l_e"
      },
      "source": [
        "\n",
        "print(train[1][3])\n"
      ],
      "execution_count": null,
      "outputs": []
    },
    {
      "cell_type": "code",
      "metadata": {
        "id": "vltydmEl8j3e"
      },
      "source": [
        "# khác nhau giữa #1 và #2 là # 2 không in ra tên cột Times\n",
        "\n",
        "print(train[['Times']]) #1\n",
        "\n",
        "print(\"\\n\",train['Times'].head(5))  #2\n",
        "\n"
      ],
      "execution_count": null,
      "outputs": []
    },
    {
      "cell_type": "code",
      "metadata": {
        "id": "QgqCRinewInM"
      },
      "source": [
        "\n"
      ],
      "execution_count": null,
      "outputs": []
    },
    {
      "cell_type": "code",
      "metadata": {
        "id": "mOBP4ZSA_AWe"
      },
      "source": [
        "# dataset = pd.concat(objs=[train,test], axis=0)\n",
        "dataset = pd.concat([train, test])\n",
        "\n",
        "dataset.info()"
      ],
      "execution_count": null,
      "outputs": []
    },
    {
      "cell_type": "code",
      "metadata": {
        "id": "SDg_w2GSfdNG",
        "colab": {
          "base_uri": "https://localhost:8080/"
        },
        "outputId": "d45e8deb-14b9-4dcc-f73c-6ac16a695cca"
      },
      "source": [
        "\n",
        "\n",
        "\n",
        "\n",
        "\n",
        "\n",
        "\n",
        "\n",
        "\n",
        "\n",
        "# clone file sheet from github của anh sơn pro\n",
        "!gdown --id 1NkcKJyW8XpvaKDZlG-HRCY4igmL1ZSGF\n",
        "\n",
        "# down file wecode and file score from drive của anh đinh sơn pro \n",
        "\n",
        "## file wecode\n",
        "!gdown --id 1X5pBfb94tpaCUGtB7gHDFXPzXv4L8Gnr\n",
        "## file score\n",
        "!gdown --id 1JFZZRDMWNWWWxzkTWzoJI1v8XC7GTZfO\n"
      ],
      "execution_count": null,
      "outputs": [
        {
          "output_type": "stream",
          "text": [
            "Downloading...\n",
            "From: https://drive.google.com/uc?id=1NkcKJyW8XpvaKDZlG-HRCY4igmL1ZSGF\n",
            "To: /content/wecode.csv\n",
            "30.8MB [00:00, 84.2MB/s]\n",
            "Permission denied: https://drive.google.com/uc?id=1X5pBfb94tpaCUGtB7gHDFXPzXv4L8Gnr\n",
            "Maybe you need to change permission over 'Anyone with the link'?\n",
            "Downloading...\n",
            "From: https://drive.google.com/uc?id=1JFZZRDMWNWWWxzkTWzoJI1v8XC7GTZfO\n",
            "To: /content/score_training.csv\n",
            "100% 23.9k/23.9k [00:00<00:00, 43.9MB/s]\n"
          ],
          "name": "stdout"
        }
      ]
    },
    {
      "cell_type": "code",
      "metadata": {
        "id": "BtDgQz1tRwKb"
      },
      "source": [
        "import pandas as pd\n",
        "import numpy as np\n",
        "import matplotlib.pyplot as plt\n",
        "\n",
        "train = pd.read_csv(\"/content/wecode.csv\")\n",
        "\n",
        "# test = pd.read_csv(\"/content/file-sheet/insert.csv\")\n"
      ],
      "execution_count": null,
      "outputs": []
    },
    {
      "cell_type": "code",
      "metadata": {
        "id": "gR_fi6qOMJNw"
      },
      "source": [
        ""
      ],
      "execution_count": null,
      "outputs": []
    },
    {
      "cell_type": "code",
      "metadata": {
        "id": "X0rdCHpjUfHy"
      },
      "source": [
        "# delete rows missing data\n",
        "dataset = train.dropna()"
      ],
      "execution_count": null,
      "outputs": []
    },
    {
      "cell_type": "markdown",
      "metadata": {
        "id": "kyGs9vRhPwj1"
      },
      "source": [
        "- điểm số thi cuối kì được lưu tại data_train_y lấy những giá trị ko bị khuyết điểm cuối kì, bảng gồm 2 cột là `id-user` và `điểm cuối kì`\n",
        "- Bên vai trò `X` thì tạo ra 1 table với hàng là những `id-user` có `điểm cuối kì` \n",
        "+ Tiếp tục gộp những dòng có chung id-user rồi thống kê tạo thành 1 cột mới là số lần nộp\n"
      ]
    },
    {
      "cell_type": "code",
      "metadata": {
        "id": "T3LWhiwJQDBW"
      },
      "source": [
        "print(dataset[\"id\"].max())"
      ],
      "execution_count": null,
      "outputs": []
    },
    {
      "cell_type": "code",
      "metadata": {
        "id": "mGcsqVaELAmI"
      },
      "source": [
        "#đếm số giá trị của một feature\n",
        "train.coefficient.value_counts()"
      ],
      "execution_count": null,
      "outputs": []
    },
    {
      "cell_type": "code",
      "metadata": {
        "id": "J4-MW_nDV-GY"
      },
      "source": [
        "import datetime\n",
        "# xóa cột\n",
        "train.drop(columns=['id'])\n",
        "# chuyển kiểu dữ liệu\n",
        "train[\"created_at\"]= pd.to_datetime(train[\"created_at\"])\n",
        "train[\"updated_at\"]= pd.to_datetime(train[\"updated_at\"])\n",
        "\n",
        "# tạo cột mới new_times = up - cre\n",
        "train[\"created_at\"] =  train[\"updated_at\"] - train[\"created_at\"] "
      ],
      "execution_count": null,
      "outputs": []
    },
    {
      "cell_type": "code",
      "metadata": {
        "id": "SevfOMHGcSwO"
      },
      "source": [
        "# đổi tên cre -> new_times\n",
        "train.rename(columns={'created_at': 'new_times'}, inplace=True)"
      ],
      "execution_count": null,
      "outputs": []
    },
    {
      "cell_type": "code",
      "metadata": {
        "id": "QCHDBaTYfimp"
      },
      "source": [
        "#xóa cột\n",
        "train = train.drop(columns=[\"updated_at\"])\n",
        "train"
      ],
      "execution_count": null,
      "outputs": []
    },
    {
      "cell_type": "code",
      "metadata": {
        "id": "op-BmFO9g1L7"
      },
      "source": [
        "d = train['new_times'].dt.total_seconds().head()\n",
        "print(d)d = train['new_times'].dt.total_seconds().head()\n",
        "\n",
        "# df['diff'] = df['diff'].dt.total_seconds().astype(int)"
      ],
      "execution_count": null,
      "outputs": []
    },
    {
      "cell_type": "code",
      "metadata": {
        "id": "Vd175q5P0Qaw"
      },
      "source": [
        "train.info()"
      ],
      "execution_count": null,
      "outputs": []
    },
    {
      "cell_type": "markdown",
      "metadata": {
        "id": "MJVcRuqPL5mj"
      },
      "source": [
        "# BẮT ĐẦU LÀM \n"
      ]
    },
    {
      "cell_type": "code",
      "metadata": {
        "id": "w3j_uj-eMA_a"
      },
      "source": [
        "## file wecode\n",
        "!gdown --id 1NkcKJyW8XpvaKDZlG-HRCY4igmL1ZSGF\n",
        "## file score\n",
        "!gdown --id 1JFZZRDMWNWWWxzkTWzoJI1v8XC7GTZfO"
      ],
      "execution_count": null,
      "outputs": []
    },
    {
      "cell_type": "code",
      "metadata": {
        "id": "GPxxv-87MKO9"
      },
      "source": [
        "import pandas as pd\n",
        "import numpy as np\n",
        "import matplotlib.pyplot as plt\n",
        "# import datetime\n",
        "\n",
        "train = pd.read_csv(\"/content/wecode.csv\")\n",
        "\n",
        "train[\"created_at\"]= pd.to_datetime(train[\"created_at\"])\n",
        "train[\"updated_at\"]= pd.to_datetime(train[\"updated_at\"])\n",
        "\n",
        "train[\"new_time\"] =  train[\"updated_at\"] - train[\"created_at\"] \n",
        "\n"
      ],
      "execution_count": null,
      "outputs": []
    },
    {
      "cell_type": "code",
      "metadata": {
        "id": "Qo0j3IBWtQb7"
      },
      "source": [
        "train.coefficient.value_counts()\n"
      ],
      "execution_count": null,
      "outputs": []
    },
    {
      "cell_type": "code",
      "metadata": {
        "id": "1ObZ9NKpxeTo"
      },
      "source": [
        "train[train.coefficient=='error']"
      ],
      "execution_count": null,
      "outputs": []
    },
    {
      "cell_type": "code",
      "metadata": {
        "id": "exVTqtMul5io"
      },
      "source": [
        "train['coefficient'] = train[train['coefficient'] != 'error']\n",
        "\n",
        "train[\"coefficient\"] = pd.to_numeric(train[\"coefficient\"])\n",
        "\n",
        "\n",
        "# train['coefficient'].astype(str).astype(int)\n",
        "# e = pd.to_numeric(train['coefficient'], downcast='float')\n"
      ],
      "execution_count": null,
      "outputs": []
    },
    {
      "cell_type": "code",
      "metadata": {
        "colab": {
          "base_uri": "https://localhost:8080/"
        },
        "id": "XrZ6qNziPBLh",
        "outputId": "e4c8b370-d2dc-4717-d158-34557a860625"
      },
      "source": [
        "train.info()"
      ],
      "execution_count": null,
      "outputs": [
        {
          "output_type": "stream",
          "text": [
            "<class 'pandas.core.frame.DataFrame'>\n",
            "RangeIndex: 264606 entries, 0 to 264605\n",
            "Data columns (total 13 columns):\n",
            " #   Column         Non-Null Count   Dtype          \n",
            "---  ------         --------------   -----          \n",
            " 0   id             264606 non-null  int64          \n",
            " 1   assignment_id  264606 non-null  int64          \n",
            " 2   problem_id     264606 non-null  int64          \n",
            " 3   user_id        264606 non-null  int64          \n",
            " 4   is_final       264606 non-null  int64          \n",
            " 5   status         264605 non-null  object         \n",
            " 6   pre_score      264606 non-null  int64          \n",
            " 7   coefficient    264354 non-null  float64        \n",
            " 8   file_name      264606 non-null  object         \n",
            " 9   language_id    264606 non-null  int64          \n",
            " 10  created_at     264606 non-null  datetime64[ns] \n",
            " 11  updated_at     264606 non-null  datetime64[ns] \n",
            " 12  new_time       264606 non-null  timedelta64[ns]\n",
            "dtypes: datetime64[ns](2), float64(1), int64(7), object(2), timedelta64[ns](1)\n",
            "memory usage: 26.2+ MB\n"
          ],
          "name": "stdout"
        }
      ]
    },
    {
      "cell_type": "code",
      "metadata": {
        "colab": {
          "base_uri": "https://localhost:8080/"
        },
        "id": "TtuA-5M7NVsb",
        "outputId": "b1f85537-75f8-42e3-ace2-ad5da2b38300"
      },
      "source": [
        "train['new_time'] =  train['new_time'].dt.total_seconds()\n",
        "train.new_time"
      ],
      "execution_count": null,
      "outputs": [
        {
          "output_type": "execute_result",
          "data": {
            "text/plain": [
              "0           8.0\n",
              "1           8.0\n",
              "2         935.0\n",
              "3           1.0\n",
              "4           1.0\n",
              "          ...  \n",
              "264601      7.0\n",
              "264602      1.0\n",
              "264603      6.0\n",
              "264604     31.0\n",
              "264605     23.0\n",
              "Name: new_time, Length: 264606, dtype: float64"
            ]
          },
          "metadata": {
            "tags": []
          },
          "execution_count": 130
        }
      ]
    },
    {
      "cell_type": "code",
      "metadata": {
        "id": "1D9pJub6QWsT"
      },
      "source": [
        "train.head()\n"
      ],
      "execution_count": null,
      "outputs": []
    },
    {
      "cell_type": "code",
      "metadata": {
        "id": "1nmf3yaTjZ-J"
      },
      "source": [
        "train.info()"
      ],
      "execution_count": null,
      "outputs": []
    },
    {
      "cell_type": "code",
      "metadata": {
        "id": "j5i5tOjQVN8j"
      },
      "source": [
        "# tt.groupby(['user_id']).sum()\n",
        "# # f.groupby(['Animal']).mean()\n",
        "\n",
        "# ###### LƯU Ý NÈ \n",
        "# tt[tt.user_id ==4]['id'].count()\n",
        "\n",
        "\n",
        "# sum(tt.user_id == 4)"
      ],
      "execution_count": null,
      "outputs": []
    },
    {
      "cell_type": "markdown",
      "metadata": {
        "id": "SdlbyPChTqlW"
      },
      "source": [
        "- Xóa cột `languae` id và `file_name` và `id`\n",
        "-SUM: `coefficient` --- `new_time`----`pre_score`----\n",
        "\n"
      ]
    },
    {
      "cell_type": "code",
      "metadata": {
        "id": "GR6ZtZTcWFMC"
      },
      "source": [
        "df = pd.DataFrame(np.sort(train.user_id.unique()))\n",
        "df.columns = ['user_id']\n"
      ],
      "execution_count": null,
      "outputs": []
    },
    {
      "cell_type": "code",
      "metadata": {
        "id": "lEJjalP0gfoQ"
      },
      "source": [
        "df = pd.merge(df,train.groupby('user_id',as_index=False)[['assignment_id']].nunique(), on = 'user_id')\n",
        "\n",
        "df = pd.merge(df,train.groupby('user_id',as_index=False)[['problem_id']].nunique(), on = 'user_id')\n",
        "\n",
        "df = pd.merge(df,train[train.status == 'SCORE'].groupby(['user_id'], as_index= False)[['status']].count(), on = 'user_id')"
      ],
      "execution_count": null,
      "outputs": []
    },
    {
      "cell_type": "code",
      "metadata": {
        "id": "_Ld1AZI-bwZY"
      },
      "source": [
        "\n",
        "df = pd.merge(df,train.groupby(['user_id'], as_index= False)[['is_final' ,'coefficient','pre_score' ,'new_time']].sum(), on = 'user_id')"
      ],
      "execution_count": null,
      "outputs": []
    },
    {
      "cell_type": "code",
      "metadata": {
        "id": "QsdkxaBaAj21"
      },
      "source": [
        "\n",
        "df = pd.merge(df,train[train.status == 'Compilation Error'].groupby(['user_id'], as_index= False)[['status']].count(), on = 'user_id')"
      ],
      "execution_count": null,
      "outputs": []
    },
    {
      "cell_type": "code",
      "metadata": {
        "colab": {
          "base_uri": "https://localhost:8080/"
        },
        "id": "Y0eQfZeV_uSC",
        "outputId": "81b9321c-dcfa-4aac-f869-e3bad87d215a"
      },
      "source": [
        "\n",
        "df.columns = ['user_id', 'C_assignment_id', 'C_problem_id', 'C-SCORE', 'S_coefficient', 'S_is_final',\n",
        "       'S_pre_score', 'S_new_times', 'C_Compilation_Error']\n",
        "df.info()\n"
      ],
      "execution_count": null,
      "outputs": [
        {
          "output_type": "stream",
          "text": [
            "<class 'pandas.core.frame.DataFrame'>\n",
            "Int64Index: 1139 entries, 0 to 1138\n",
            "Data columns (total 9 columns):\n",
            " #   Column               Non-Null Count  Dtype  \n",
            "---  ------               --------------  -----  \n",
            " 0   user_id              1139 non-null   int64  \n",
            " 1   C_assignment_id      1139 non-null   int64  \n",
            " 2   C_problem_id         1139 non-null   int64  \n",
            " 3   C-SCORE              1139 non-null   int64  \n",
            " 4   S_coefficient        1139 non-null   int64  \n",
            " 5   S_is_final           1139 non-null   float64\n",
            " 6   S_pre_score          1139 non-null   int64  \n",
            " 7   S_new_times          1139 non-null   float64\n",
            " 8   C_Compilation_Error  1139 non-null   int64  \n",
            "dtypes: float64(2), int64(7)\n",
            "memory usage: 89.0 KB\n"
          ],
          "name": "stdout"
        }
      ]
    },
    {
      "cell_type": "code",
      "metadata": {
        "colab": {
          "base_uri": "https://localhost:8080/",
          "height": 456
        },
        "id": "rCbVyrWJRRm5",
        "outputId": "b70cbf0f-f85d-42ce-dcd5-1a3f3400d8d8"
      },
      "source": [
        "df"
      ],
      "execution_count": null,
      "outputs": [
        {
          "output_type": "execute_result",
          "data": {
            "text/html": [
              "<div>\n",
              "<style scoped>\n",
              "    .dataframe tbody tr th:only-of-type {\n",
              "        vertical-align: middle;\n",
              "    }\n",
              "\n",
              "    .dataframe tbody tr th {\n",
              "        vertical-align: top;\n",
              "    }\n",
              "\n",
              "    .dataframe thead th {\n",
              "        text-align: right;\n",
              "    }\n",
              "</style>\n",
              "<table border=\"1\" class=\"dataframe\">\n",
              "  <thead>\n",
              "    <tr style=\"text-align: right;\">\n",
              "      <th></th>\n",
              "      <th>user_id</th>\n",
              "      <th>C_assignment_id</th>\n",
              "      <th>C_problem_id</th>\n",
              "      <th>C-SCORE</th>\n",
              "      <th>S_coefficient</th>\n",
              "      <th>S_is_final</th>\n",
              "      <th>S_pre_score</th>\n",
              "      <th>S_new_times</th>\n",
              "      <th>C_Compilation_Error</th>\n",
              "    </tr>\n",
              "  </thead>\n",
              "  <tbody>\n",
              "    <tr>\n",
              "      <th>0</th>\n",
              "      <td>1</td>\n",
              "      <td>1</td>\n",
              "      <td>2</td>\n",
              "      <td>1</td>\n",
              "      <td>2</td>\n",
              "      <td>98979.0</td>\n",
              "      <td>10000</td>\n",
              "      <td>13.0</td>\n",
              "      <td>1</td>\n",
              "    </tr>\n",
              "    <tr>\n",
              "      <th>1</th>\n",
              "      <td>4</td>\n",
              "      <td>1</td>\n",
              "      <td>41</td>\n",
              "      <td>48</td>\n",
              "      <td>38</td>\n",
              "      <td>2025618.0</td>\n",
              "      <td>466000</td>\n",
              "      <td>5635.0</td>\n",
              "      <td>6</td>\n",
              "    </tr>\n",
              "    <tr>\n",
              "      <th>2</th>\n",
              "      <td>5</td>\n",
              "      <td>4</td>\n",
              "      <td>5</td>\n",
              "      <td>4</td>\n",
              "      <td>5</td>\n",
              "      <td>317619.0</td>\n",
              "      <td>30000</td>\n",
              "      <td>2427.0</td>\n",
              "      <td>2</td>\n",
              "    </tr>\n",
              "    <tr>\n",
              "      <th>3</th>\n",
              "      <td>6</td>\n",
              "      <td>4</td>\n",
              "      <td>88</td>\n",
              "      <td>105</td>\n",
              "      <td>88</td>\n",
              "      <td>11670135.0</td>\n",
              "      <td>965637</td>\n",
              "      <td>97026.0</td>\n",
              "      <td>25</td>\n",
              "    </tr>\n",
              "    <tr>\n",
              "      <th>4</th>\n",
              "      <td>11</td>\n",
              "      <td>10</td>\n",
              "      <td>18</td>\n",
              "      <td>43</td>\n",
              "      <td>12</td>\n",
              "      <td>6097888.0</td>\n",
              "      <td>317268</td>\n",
              "      <td>920492.0</td>\n",
              "      <td>7</td>\n",
              "    </tr>\n",
              "    <tr>\n",
              "      <th>...</th>\n",
              "      <td>...</td>\n",
              "      <td>...</td>\n",
              "      <td>...</td>\n",
              "      <td>...</td>\n",
              "      <td>...</td>\n",
              "      <td>...</td>\n",
              "      <td>...</td>\n",
              "      <td>...</td>\n",
              "      <td>...</td>\n",
              "    </tr>\n",
              "    <tr>\n",
              "      <th>1134</th>\n",
              "      <td>1859</td>\n",
              "      <td>7</td>\n",
              "      <td>27</td>\n",
              "      <td>22</td>\n",
              "      <td>30</td>\n",
              "      <td>4368620.0</td>\n",
              "      <td>39000</td>\n",
              "      <td>297.0</td>\n",
              "      <td>9</td>\n",
              "    </tr>\n",
              "    <tr>\n",
              "      <th>1135</th>\n",
              "      <td>1860</td>\n",
              "      <td>10</td>\n",
              "      <td>43</td>\n",
              "      <td>66</td>\n",
              "      <td>48</td>\n",
              "      <td>12770692.0</td>\n",
              "      <td>405440</td>\n",
              "      <td>4225275.0</td>\n",
              "      <td>10</td>\n",
              "    </tr>\n",
              "    <tr>\n",
              "      <th>1136</th>\n",
              "      <td>1862</td>\n",
              "      <td>2</td>\n",
              "      <td>6</td>\n",
              "      <td>8</td>\n",
              "      <td>6</td>\n",
              "      <td>957893.0</td>\n",
              "      <td>40000</td>\n",
              "      <td>2194.0</td>\n",
              "      <td>4</td>\n",
              "    </tr>\n",
              "    <tr>\n",
              "      <th>1137</th>\n",
              "      <td>1864</td>\n",
              "      <td>5</td>\n",
              "      <td>63</td>\n",
              "      <td>132</td>\n",
              "      <td>63</td>\n",
              "      <td>27584600.0</td>\n",
              "      <td>563292</td>\n",
              "      <td>1009160.0</td>\n",
              "      <td>55</td>\n",
              "    </tr>\n",
              "    <tr>\n",
              "      <th>1138</th>\n",
              "      <td>1865</td>\n",
              "      <td>3</td>\n",
              "      <td>17</td>\n",
              "      <td>59</td>\n",
              "      <td>17</td>\n",
              "      <td>20894917.0</td>\n",
              "      <td>189460</td>\n",
              "      <td>707600.0</td>\n",
              "      <td>40</td>\n",
              "    </tr>\n",
              "  </tbody>\n",
              "</table>\n",
              "<p>1139 rows × 9 columns</p>\n",
              "</div>"
            ],
            "text/plain": [
              "      user_id  C_assignment_id  ...  S_new_times  C_Compilation_Error\n",
              "0           1                1  ...         13.0                    1\n",
              "1           4                1  ...       5635.0                    6\n",
              "2           5                4  ...       2427.0                    2\n",
              "3           6                4  ...      97026.0                   25\n",
              "4          11               10  ...     920492.0                    7\n",
              "...       ...              ...  ...          ...                  ...\n",
              "1134     1859                7  ...        297.0                    9\n",
              "1135     1860               10  ...    4225275.0                   10\n",
              "1136     1862                2  ...       2194.0                    4\n",
              "1137     1864                5  ...    1009160.0                   55\n",
              "1138     1865                3  ...     707600.0                   40\n",
              "\n",
              "[1139 rows x 9 columns]"
            ]
          },
          "metadata": {
            "tags": []
          },
          "execution_count": 188
        }
      ]
    },
    {
      "cell_type": "markdown",
      "metadata": {
        "id": "VoUWIwpLJ_Sz"
      },
      "source": [
        "lấy dữ liệu vế Y\n"
      ]
    },
    {
      "cell_type": "code",
      "metadata": {
        "id": "Icde2c6AKD9V"
      },
      "source": [
        "\n",
        "score = pd.read_csv(\"/content/score_training.csv\")\n",
        "score.rename(columns={'id': 'user_id'}, inplace=True)\n",
        "score = pd.merge(df, score[[\"user_id\",'CK']], on = 'user_id', how = 'left' )\n",
        "\n"
      ],
      "execution_count": null,
      "outputs": []
    },
    {
      "cell_type": "code",
      "metadata": {
        "colab": {
          "base_uri": "https://localhost:8080/"
        },
        "id": "od8mY66oXog3",
        "outputId": "fbba9ceb-d648-45d0-a9de-2fc4814cd774"
      },
      "source": [
        "score.info()"
      ],
      "execution_count": null,
      "outputs": [
        {
          "output_type": "stream",
          "text": [
            "<class 'pandas.core.frame.DataFrame'>\n",
            "Int64Index: 1139 entries, 0 to 1138\n",
            "Data columns (total 10 columns):\n",
            " #   Column               Non-Null Count  Dtype  \n",
            "---  ------               --------------  -----  \n",
            " 0   user_id              1139 non-null   int64  \n",
            " 1   C_assignment_id      1139 non-null   int64  \n",
            " 2   C_problem_id         1139 non-null   int64  \n",
            " 3   C-SCORE              1139 non-null   int64  \n",
            " 4   S_coefficient        1139 non-null   int64  \n",
            " 5   S_is_final           1139 non-null   float64\n",
            " 6   S_pre_score          1139 non-null   int64  \n",
            " 7   S_new_times          1139 non-null   float64\n",
            " 8   C_Compilation_Error  1139 non-null   int64  \n",
            " 9   CK                   843 non-null    object \n",
            "dtypes: float64(2), int64(7), object(1)\n",
            "memory usage: 137.9+ KB\n"
          ],
          "name": "stdout"
        }
      ]
    },
    {
      "cell_type": "code",
      "metadata": {
        "id": "vFt_UsPnNccR"
      },
      "source": [
        "score"
      ],
      "execution_count": null,
      "outputs": []
    },
    {
      "cell_type": "code",
      "metadata": {
        "id": "2YTlr11eNj9g"
      },
      "source": [
        "df_2 = score.loc[score.CK.notnull()]\n",
        "df_2[\"CK\"] = pd.to_numeric(df_2[\"CK\"],errors = 'coerce') # convert object -> float64"
      ],
      "execution_count": null,
      "outputs": []
    },
    {
      "cell_type": "code",
      "metadata": {
        "colab": {
          "base_uri": "https://localhost:8080/"
        },
        "id": "osYDZf38P64E",
        "outputId": "d54bab88-e46e-4c9a-e990-5ae1571549ab"
      },
      "source": [
        "\n",
        "df_2 = df_2.dropna()\n",
        "df_2.info()"
      ],
      "execution_count": null,
      "outputs": [
        {
          "output_type": "stream",
          "text": [
            "<class 'pandas.core.frame.DataFrame'>\n",
            "Int64Index: 797 entries, 8 to 1138\n",
            "Data columns (total 10 columns):\n",
            " #   Column               Non-Null Count  Dtype  \n",
            "---  ------               --------------  -----  \n",
            " 0   user_id              797 non-null    int64  \n",
            " 1   C_assignment_id      797 non-null    int64  \n",
            " 2   C_problem_id         797 non-null    int64  \n",
            " 3   C-SCORE              797 non-null    int64  \n",
            " 4   S_coefficient        797 non-null    int64  \n",
            " 5   S_is_final           797 non-null    float64\n",
            " 6   S_pre_score          797 non-null    int64  \n",
            " 7   S_new_times          797 non-null    float64\n",
            " 8   C_Compilation_Error  797 non-null    int64  \n",
            " 9   CK                   797 non-null    float64\n",
            "dtypes: float64(3), int64(7)\n",
            "memory usage: 68.5 KB\n"
          ],
          "name": "stdout"
        }
      ]
    },
    {
      "cell_type": "code",
      "metadata": {
        "id": "1zTAnSsoPqnW"
      },
      "source": [
        "x_train = df_2.drop(columns=['CK','user_id'], axis = 1)\n",
        "y_train = df_2[['CK']]\n",
        "\n",
        "\n",
        "\n"
      ],
      "execution_count": null,
      "outputs": []
    },
    {
      "cell_type": "code",
      "metadata": {
        "colab": {
          "base_uri": "https://localhost:8080/"
        },
        "id": "YChmqqcTie8A",
        "outputId": "53c29e22-2512-4f28-9ab2-7655647f0434"
      },
      "source": [
        "score.CK[94]"
      ],
      "execution_count": null,
      "outputs": [
        {
          "output_type": "execute_result",
          "data": {
            "text/plain": [
              "nan"
            ]
          },
          "metadata": {
            "tags": []
          },
          "execution_count": 280
        }
      ]
    },
    {
      "cell_type": "code",
      "metadata": {
        "id": "BQW-piSyjGPK"
      },
      "source": [
        "np.savetxt(\"save.txt\",y_train,fmt = '%.2f')"
      ],
      "execution_count": null,
      "outputs": []
    },
    {
      "cell_type": "code",
      "metadata": {
        "colab": {
          "base_uri": "https://localhost:8080/"
        },
        "id": "51K7Fkm5WOdI",
        "outputId": "c3fa5a74-c132-4c65-d8ed-8f1e0911ee6d"
      },
      "source": [
        "x_train.dropna()\n",
        "x_train.info()"
      ],
      "execution_count": null,
      "outputs": [
        {
          "output_type": "stream",
          "text": [
            "<class 'pandas.core.frame.DataFrame'>\n",
            "Int64Index: 797 entries, 8 to 1138\n",
            "Data columns (total 8 columns):\n",
            " #   Column               Non-Null Count  Dtype  \n",
            "---  ------               --------------  -----  \n",
            " 0   C_assignment_id      797 non-null    int64  \n",
            " 1   C_problem_id         797 non-null    int64  \n",
            " 2   C-SCORE              797 non-null    int64  \n",
            " 3   S_coefficient        797 non-null    int64  \n",
            " 4   S_is_final           797 non-null    float64\n",
            " 5   S_pre_score          797 non-null    int64  \n",
            " 6   S_new_times          797 non-null    float64\n",
            " 7   C_Compilation_Error  797 non-null    int64  \n",
            "dtypes: float64(2), int64(6)\n",
            "memory usage: 56.0 KB\n"
          ],
          "name": "stdout"
        }
      ]
    },
    {
      "cell_type": "code",
      "metadata": {
        "id": "7w0x3_CqWYWI"
      },
      "source": [
        "\n",
        "from sklearn.linear_model import LinearRegression\n",
        "\n",
        "model = LinearRegression().fit(x_train, y_train)"
      ],
      "execution_count": null,
      "outputs": []
    },
    {
      "cell_type": "code",
      "metadata": {
        "id": "UcgMk2QwqlsG"
      },
      "source": [
        "main_test = score.loc[score.CK.isnull()]"
      ],
      "execution_count": null,
      "outputs": []
    },
    {
      "cell_type": "code",
      "metadata": {
        "colab": {
          "base_uri": "https://localhost:8080/",
          "height": 456
        },
        "id": "HeSWHuQP5NPG",
        "outputId": "46d7e613-6382-4a42-e842-bdb4630e707b"
      },
      "source": [
        "main_test"
      ],
      "execution_count": null,
      "outputs": [
        {
          "output_type": "execute_result",
          "data": {
            "text/html": [
              "<div>\n",
              "<style scoped>\n",
              "    .dataframe tbody tr th:only-of-type {\n",
              "        vertical-align: middle;\n",
              "    }\n",
              "\n",
              "    .dataframe tbody tr th {\n",
              "        vertical-align: top;\n",
              "    }\n",
              "\n",
              "    .dataframe thead th {\n",
              "        text-align: right;\n",
              "    }\n",
              "</style>\n",
              "<table border=\"1\" class=\"dataframe\">\n",
              "  <thead>\n",
              "    <tr style=\"text-align: right;\">\n",
              "      <th></th>\n",
              "      <th>user_id</th>\n",
              "      <th>C_assignment_id</th>\n",
              "      <th>C_problem_id</th>\n",
              "      <th>C-SCORE</th>\n",
              "      <th>S_coefficient</th>\n",
              "      <th>S_is_final</th>\n",
              "      <th>S_pre_score</th>\n",
              "      <th>S_new_times</th>\n",
              "      <th>C_Compilation_Error</th>\n",
              "      <th>CK</th>\n",
              "    </tr>\n",
              "  </thead>\n",
              "  <tbody>\n",
              "    <tr>\n",
              "      <th>0</th>\n",
              "      <td>1</td>\n",
              "      <td>1</td>\n",
              "      <td>2</td>\n",
              "      <td>1</td>\n",
              "      <td>2</td>\n",
              "      <td>98979.0</td>\n",
              "      <td>10000</td>\n",
              "      <td>13.0</td>\n",
              "      <td>1</td>\n",
              "      <td>NaN</td>\n",
              "    </tr>\n",
              "    <tr>\n",
              "      <th>1</th>\n",
              "      <td>4</td>\n",
              "      <td>1</td>\n",
              "      <td>41</td>\n",
              "      <td>48</td>\n",
              "      <td>38</td>\n",
              "      <td>2025618.0</td>\n",
              "      <td>466000</td>\n",
              "      <td>5635.0</td>\n",
              "      <td>6</td>\n",
              "      <td>NaN</td>\n",
              "    </tr>\n",
              "    <tr>\n",
              "      <th>2</th>\n",
              "      <td>5</td>\n",
              "      <td>4</td>\n",
              "      <td>5</td>\n",
              "      <td>4</td>\n",
              "      <td>5</td>\n",
              "      <td>317619.0</td>\n",
              "      <td>30000</td>\n",
              "      <td>2427.0</td>\n",
              "      <td>2</td>\n",
              "      <td>NaN</td>\n",
              "    </tr>\n",
              "    <tr>\n",
              "      <th>3</th>\n",
              "      <td>6</td>\n",
              "      <td>4</td>\n",
              "      <td>88</td>\n",
              "      <td>105</td>\n",
              "      <td>88</td>\n",
              "      <td>11670135.0</td>\n",
              "      <td>965637</td>\n",
              "      <td>97026.0</td>\n",
              "      <td>25</td>\n",
              "      <td>NaN</td>\n",
              "    </tr>\n",
              "    <tr>\n",
              "      <th>4</th>\n",
              "      <td>11</td>\n",
              "      <td>10</td>\n",
              "      <td>18</td>\n",
              "      <td>43</td>\n",
              "      <td>12</td>\n",
              "      <td>6097888.0</td>\n",
              "      <td>317268</td>\n",
              "      <td>920492.0</td>\n",
              "      <td>7</td>\n",
              "      <td>NaN</td>\n",
              "    </tr>\n",
              "    <tr>\n",
              "      <th>...</th>\n",
              "      <td>...</td>\n",
              "      <td>...</td>\n",
              "      <td>...</td>\n",
              "      <td>...</td>\n",
              "      <td>...</td>\n",
              "      <td>...</td>\n",
              "      <td>...</td>\n",
              "      <td>...</td>\n",
              "      <td>...</td>\n",
              "      <td>...</td>\n",
              "    </tr>\n",
              "    <tr>\n",
              "      <th>1129</th>\n",
              "      <td>1851</td>\n",
              "      <td>3</td>\n",
              "      <td>36</td>\n",
              "      <td>64</td>\n",
              "      <td>43</td>\n",
              "      <td>6778236.0</td>\n",
              "      <td>468696</td>\n",
              "      <td>776219.0</td>\n",
              "      <td>16</td>\n",
              "      <td>NaN</td>\n",
              "    </tr>\n",
              "    <tr>\n",
              "      <th>1130</th>\n",
              "      <td>1852</td>\n",
              "      <td>1</td>\n",
              "      <td>1</td>\n",
              "      <td>8</td>\n",
              "      <td>1</td>\n",
              "      <td>2047086.0</td>\n",
              "      <td>50000</td>\n",
              "      <td>1422.0</td>\n",
              "      <td>12</td>\n",
              "      <td>NaN</td>\n",
              "    </tr>\n",
              "    <tr>\n",
              "      <th>1131</th>\n",
              "      <td>1855</td>\n",
              "      <td>9</td>\n",
              "      <td>61</td>\n",
              "      <td>123</td>\n",
              "      <td>67</td>\n",
              "      <td>24838231.0</td>\n",
              "      <td>875665</td>\n",
              "      <td>1128077.0</td>\n",
              "      <td>11</td>\n",
              "      <td>NaN</td>\n",
              "    </tr>\n",
              "    <tr>\n",
              "      <th>1135</th>\n",
              "      <td>1860</td>\n",
              "      <td>10</td>\n",
              "      <td>43</td>\n",
              "      <td>66</td>\n",
              "      <td>48</td>\n",
              "      <td>12770692.0</td>\n",
              "      <td>405440</td>\n",
              "      <td>4225275.0</td>\n",
              "      <td>10</td>\n",
              "      <td>NaN</td>\n",
              "    </tr>\n",
              "    <tr>\n",
              "      <th>1137</th>\n",
              "      <td>1864</td>\n",
              "      <td>5</td>\n",
              "      <td>63</td>\n",
              "      <td>132</td>\n",
              "      <td>63</td>\n",
              "      <td>27584600.0</td>\n",
              "      <td>563292</td>\n",
              "      <td>1009160.0</td>\n",
              "      <td>55</td>\n",
              "      <td>NaN</td>\n",
              "    </tr>\n",
              "  </tbody>\n",
              "</table>\n",
              "<p>296 rows × 10 columns</p>\n",
              "</div>"
            ],
            "text/plain": [
              "      user_id  C_assignment_id  ...  C_Compilation_Error   CK\n",
              "0           1                1  ...                    1  NaN\n",
              "1           4                1  ...                    6  NaN\n",
              "2           5                4  ...                    2  NaN\n",
              "3           6                4  ...                   25  NaN\n",
              "4          11               10  ...                    7  NaN\n",
              "...       ...              ...  ...                  ...  ...\n",
              "1129     1851                3  ...                   16  NaN\n",
              "1130     1852                1  ...                   12  NaN\n",
              "1131     1855                9  ...                   11  NaN\n",
              "1135     1860               10  ...                   10  NaN\n",
              "1137     1864                5  ...                   55  NaN\n",
              "\n",
              "[296 rows x 10 columns]"
            ]
          },
          "metadata": {
            "tags": []
          },
          "execution_count": 332
        }
      ]
    },
    {
      "cell_type": "code",
      "metadata": {
        "colab": {
          "base_uri": "https://localhost:8080/"
        },
        "id": "UkTlAJttujA3",
        "outputId": "0bc85051-d9a3-4f9b-e34e-3b369009656a"
      },
      "source": [
        "x_test.info()"
      ],
      "execution_count": null,
      "outputs": [
        {
          "output_type": "stream",
          "text": [
            "<class 'pandas.core.frame.DataFrame'>\n",
            "Int64Index: 296 entries, 0 to 1137\n",
            "Data columns (total 8 columns):\n",
            " #   Column               Non-Null Count  Dtype  \n",
            "---  ------               --------------  -----  \n",
            " 0   C_assignment_id      296 non-null    int64  \n",
            " 1   C_problem_id         296 non-null    int64  \n",
            " 2   C-SCORE              296 non-null    int64  \n",
            " 3   S_coefficient        296 non-null    int64  \n",
            " 4   S_is_final           296 non-null    float64\n",
            " 5   S_pre_score          296 non-null    int64  \n",
            " 6   S_new_times          296 non-null    float64\n",
            " 7   C_Compilation_Error  296 non-null    int64  \n",
            "dtypes: float64(2), int64(6)\n",
            "memory usage: 30.8 KB\n"
          ],
          "name": "stdout"
        }
      ]
    },
    {
      "cell_type": "code",
      "metadata": {
        "id": "3b0TIjGPupTx"
      },
      "source": [
        "x_test = main_test.drop(columns = ['CK','user_id'])"
      ],
      "execution_count": null,
      "outputs": []
    },
    {
      "cell_type": "code",
      "metadata": {
        "colab": {
          "base_uri": "https://localhost:8080/"
        },
        "id": "443YSv3mu5H2",
        "outputId": "8a3b12b6-0294-4f8c-959e-a1f93632e43d"
      },
      "source": [
        "x_test.info()"
      ],
      "execution_count": null,
      "outputs": [
        {
          "output_type": "stream",
          "text": [
            "<class 'pandas.core.frame.DataFrame'>\n",
            "Int64Index: 296 entries, 0 to 1137\n",
            "Data columns (total 9 columns):\n",
            " #   Column               Non-Null Count  Dtype  \n",
            "---  ------               --------------  -----  \n",
            " 0   user_id              296 non-null    int64  \n",
            " 1   C_assignment_id      296 non-null    int64  \n",
            " 2   C_problem_id         296 non-null    int64  \n",
            " 3   C-SCORE              296 non-null    int64  \n",
            " 4   S_coefficient        296 non-null    int64  \n",
            " 5   S_is_final           296 non-null    float64\n",
            " 6   S_pre_score          296 non-null    int64  \n",
            " 7   S_new_times          296 non-null    float64\n",
            " 8   C_Compilation_Error  296 non-null    int64  \n",
            "dtypes: float64(2), int64(7)\n",
            "memory usage: 33.1 KB\n"
          ],
          "name": "stdout"
        }
      ]
    },
    {
      "cell_type": "code",
      "metadata": {
        "id": "OMY4s6uQw5yl"
      },
      "source": [
        "result = model.predict(x_test)"
      ],
      "execution_count": null,
      "outputs": []
    },
    {
      "cell_type": "code",
      "metadata": {
        "id": "nz9tDrcQ2sT8"
      },
      "source": [
        "result = pd.DataFrame(result, columns=['Diem Cuoi Ky'])"
      ],
      "execution_count": null,
      "outputs": []
    },
    {
      "cell_type": "code",
      "metadata": {
        "colab": {
          "base_uri": "https://localhost:8080/"
        },
        "id": "t2SEKgYJ5bQ9",
        "outputId": "2852f38d-8b3e-4409-c614-422ccdd48c76"
      },
      "source": [
        "result = result.dropna()\n",
        "result.info()\n",
        "\n"
      ],
      "execution_count": null,
      "outputs": [
        {
          "output_type": "stream",
          "text": [
            "<class 'pandas.core.frame.DataFrame'>\n",
            "Int64Index: 296 entries, 0 to 295\n",
            "Data columns (total 1 columns):\n",
            " #   Column        Non-Null Count  Dtype  \n",
            "---  ------        --------------  -----  \n",
            " 0   Diem Cuoi Ky  296 non-null    float64\n",
            "dtypes: float64(1)\n",
            "memory usage: 4.6 KB\n"
          ],
          "name": "stdout"
        }
      ]
    },
    {
      "cell_type": "code",
      "metadata": {
        "colab": {
          "base_uri": "https://localhost:8080/",
          "height": 419
        },
        "id": "jOq2HwG-1xC9",
        "outputId": "dc7ecd2e-eee2-482f-936f-61078466b24d"
      },
      "source": [
        "kt = main_test[['user_id']]\n",
        "# np.savetxt(\"save2.txt\",kt,fmt = '%.2f')\n",
        "kt.join(result, how ='left',lsuffix='_caller', rsuffix='_other')\n"
      ],
      "execution_count": null,
      "outputs": [
        {
          "output_type": "execute_result",
          "data": {
            "text/html": [
              "<div>\n",
              "<style scoped>\n",
              "    .dataframe tbody tr th:only-of-type {\n",
              "        vertical-align: middle;\n",
              "    }\n",
              "\n",
              "    .dataframe tbody tr th {\n",
              "        vertical-align: top;\n",
              "    }\n",
              "\n",
              "    .dataframe thead th {\n",
              "        text-align: right;\n",
              "    }\n",
              "</style>\n",
              "<table border=\"1\" class=\"dataframe\">\n",
              "  <thead>\n",
              "    <tr style=\"text-align: right;\">\n",
              "      <th></th>\n",
              "      <th>user_id</th>\n",
              "      <th>Diem Cuoi Ky</th>\n",
              "    </tr>\n",
              "  </thead>\n",
              "  <tbody>\n",
              "    <tr>\n",
              "      <th>0</th>\n",
              "      <td>1</td>\n",
              "      <td>5.491684</td>\n",
              "    </tr>\n",
              "    <tr>\n",
              "      <th>1</th>\n",
              "      <td>4</td>\n",
              "      <td>5.773144</td>\n",
              "    </tr>\n",
              "    <tr>\n",
              "      <th>2</th>\n",
              "      <td>5</td>\n",
              "      <td>5.273934</td>\n",
              "    </tr>\n",
              "    <tr>\n",
              "      <th>3</th>\n",
              "      <td>6</td>\n",
              "      <td>5.841163</td>\n",
              "    </tr>\n",
              "    <tr>\n",
              "      <th>4</th>\n",
              "      <td>11</td>\n",
              "      <td>5.342026</td>\n",
              "    </tr>\n",
              "    <tr>\n",
              "      <th>...</th>\n",
              "      <td>...</td>\n",
              "      <td>...</td>\n",
              "    </tr>\n",
              "    <tr>\n",
              "      <th>1129</th>\n",
              "      <td>1851</td>\n",
              "      <td>NaN</td>\n",
              "    </tr>\n",
              "    <tr>\n",
              "      <th>1130</th>\n",
              "      <td>1852</td>\n",
              "      <td>NaN</td>\n",
              "    </tr>\n",
              "    <tr>\n",
              "      <th>1131</th>\n",
              "      <td>1855</td>\n",
              "      <td>NaN</td>\n",
              "    </tr>\n",
              "    <tr>\n",
              "      <th>1135</th>\n",
              "      <td>1860</td>\n",
              "      <td>NaN</td>\n",
              "    </tr>\n",
              "    <tr>\n",
              "      <th>1137</th>\n",
              "      <td>1864</td>\n",
              "      <td>NaN</td>\n",
              "    </tr>\n",
              "  </tbody>\n",
              "</table>\n",
              "<p>296 rows × 2 columns</p>\n",
              "</div>"
            ],
            "text/plain": [
              "      user_id  Diem Cuoi Ky\n",
              "0           1      5.491684\n",
              "1           4      5.773144\n",
              "2           5      5.273934\n",
              "3           6      5.841163\n",
              "4          11      5.342026\n",
              "...       ...           ...\n",
              "1129     1851           NaN\n",
              "1130     1852           NaN\n",
              "1131     1855           NaN\n",
              "1135     1860           NaN\n",
              "1137     1864           NaN\n",
              "\n",
              "[296 rows x 2 columns]"
            ]
          },
          "metadata": {
            "tags": []
          },
          "execution_count": 376
        }
      ]
    },
    {
      "cell_type": "code",
      "metadata": {
        "id": "YFyKMBYm_hPM"
      },
      "source": [
        ""
      ],
      "execution_count": null,
      "outputs": []
    }
  ]
}